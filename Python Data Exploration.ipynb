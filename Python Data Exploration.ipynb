{
 "cells": [
  {
   "cell_type": "markdown",
   "metadata": {},
   "source": [
    "## Basic Set-Up\n",
    "First you will need to load the libraries you want to use and set display options"
   ]
  },
  {
   "cell_type": "code",
   "execution_count": null,
   "metadata": {
    "collapsed": true
   },
   "outputs": [],
   "source": [
    "import pandas as pd\n",
    "import numpy as np\n",
    "pd.set_option('precision',3)"
   ]
  },
  {
   "cell_type": "markdown",
   "metadata": {},
   "source": [
    "## Load your data \n",
    "\n",
    "Use the pandas read_csv command to create a DataFrame. For easier re-use, it is best to set the DataFrame as a variable. In the case below, this is accomplished by the 'df =' part of the command below. You should name your variable something that will remind you of the data you are looking at."
   ]
  },
  {
   "cell_type": "code",
   "execution_count": 96,
   "metadata": {
    "collapsed": false
   },
   "outputs": [],
   "source": [
    "df = pd.read_csv('statecaps.csv',index_col=0) #specify the filepath where your data is located. By default, it will take from current directory"
   ]
  },
  {
   "cell_type": "markdown",
   "metadata": {},
   "source": [
    "## Data Exploration #1: Initial insights"
   ]
  },
  {
   "cell_type": "markdown",
   "metadata": {},
   "source": [
    "### List of column names with the data type of the column's values"
   ]
  },
  {
   "cell_type": "code",
   "execution_count": 97,
   "metadata": {
    "collapsed": false
   },
   "outputs": [
    {
     "data": {
      "text/plain": [
       "State                object\n",
       "State Population      int64\n",
       "Capital              object\n",
       "City Metro Area       int64\n",
       "City Population       int64\n",
       "Metro Per           float64\n",
       "City Per            float64\n",
       "Federal Region       object\n",
       "Union Entry Date     object\n",
       "dtype: object"
      ]
     },
     "execution_count": 97,
     "metadata": {},
     "output_type": "execute_result"
    }
   ],
   "source": [
    "df.dtypes"
   ]
  },
  {
   "cell_type": "markdown",
   "metadata": {},
   "source": [
    "#### Explanation of potential data types\n",
    "\n",
    "**'object'**: Any column that contains a text string value, including columns of mixed numbers and text  \n",
    "  \n",
    "**'int64'**: An integer  \n",
    "\n",
    "**'float64'**: A float (decimal value)\n",
    "\n",
    "**'bool'**: Boolean (a True/False) \n",
    "\n",
    "**'datetime64[ns]'**: A date stored in the proper date-time format. Note that in many cases what you believe is a date field may not be read by pandas as a date. This will require a data conversion. Notes on data conversions conclude this notebook.  \n",
    "\n",
    "**'timedelta[ns]'**: The difference between two datetime fields."
   ]
  },
  {
   "cell_type": "markdown",
   "metadata": {},
   "source": [
    "### Convert the date field to datetime"
   ]
  },
  {
   "cell_type": "code",
   "execution_count": 98,
   "metadata": {
    "collapsed": true
   },
   "outputs": [],
   "source": [
    "df['Union Entry Date'] = pd.to_datetime(df['Union Entry Date'])"
   ]
  },
  {
   "cell_type": "markdown",
   "metadata": {},
   "source": [
    "#### Now converted to datetime"
   ]
  },
  {
   "cell_type": "code",
   "execution_count": 99,
   "metadata": {
    "collapsed": false
   },
   "outputs": [
    {
     "data": {
      "text/plain": [
       "State                       object\n",
       "State Population             int64\n",
       "Capital                     object\n",
       "City Metro Area              int64\n",
       "City Population              int64\n",
       "Metro Per                  float64\n",
       "City Per                   float64\n",
       "Federal Region              object\n",
       "Union Entry Date    datetime64[ns]\n",
       "dtype: object"
      ]
     },
     "execution_count": 99,
     "metadata": {},
     "output_type": "execute_result"
    }
   ],
   "source": [
    "df.dtypes"
   ]
  },
  {
   "cell_type": "markdown",
   "metadata": {},
   "source": [
    "### Summary analysis of data\n",
    "\n",
    "To get a quick glimpse of basic statistical information associated with the variables, use pandas' *describe* command"
   ]
  },
  {
   "cell_type": "code",
   "execution_count": 115,
   "metadata": {
    "collapsed": false
   },
   "outputs": [
    {
     "data": {
      "text/html": [
       "<div>\n",
       "<table border=\"1\" class=\"dataframe\">\n",
       "  <thead>\n",
       "    <tr style=\"text-align: right;\">\n",
       "      <th></th>\n",
       "      <th>State Population</th>\n",
       "      <th>City Metro Area</th>\n",
       "      <th>City Population</th>\n",
       "      <th>Metro Per</th>\n",
       "      <th>City Per</th>\n",
       "    </tr>\n",
       "  </thead>\n",
       "  <tbody>\n",
       "    <tr>\n",
       "      <th>count</th>\n",
       "      <td>5.000e+01</td>\n",
       "      <td>5.000e+01</td>\n",
       "      <td>5.000e+01</td>\n",
       "      <td>50.000</td>\n",
       "      <td>50.000</td>\n",
       "    </tr>\n",
       "    <tr>\n",
       "      <th>mean</th>\n",
       "      <td>6.307e+06</td>\n",
       "      <td>9.172e+05</td>\n",
       "      <td>2.529e+05</td>\n",
       "      <td>0.205</td>\n",
       "      <td>0.058</td>\n",
       "    </tr>\n",
       "    <tr>\n",
       "      <th>std</th>\n",
       "      <td>7.063e+06</td>\n",
       "      <td>1.156e+06</td>\n",
       "      <td>2.927e+05</td>\n",
       "      <td>0.263</td>\n",
       "      <td>0.060</td>\n",
       "    </tr>\n",
       "    <tr>\n",
       "      <th>min</th>\n",
       "      <td>5.827e+05</td>\n",
       "      <td>7.855e+03</td>\n",
       "      <td>7.855e+03</td>\n",
       "      <td>0.010</td>\n",
       "      <td>0.000</td>\n",
       "    </tr>\n",
       "    <tr>\n",
       "      <th>25%</th>\n",
       "      <td>1.858e+06</td>\n",
       "      <td>1.518e+05</td>\n",
       "      <td>5.208e+04</td>\n",
       "      <td>0.040</td>\n",
       "      <td>0.013</td>\n",
       "    </tr>\n",
       "    <tr>\n",
       "      <th>50%</th>\n",
       "      <td>4.499e+06</td>\n",
       "      <td>4.339e+05</td>\n",
       "      <td>1.664e+05</td>\n",
       "      <td>0.115</td>\n",
       "      <td>0.040</td>\n",
       "    </tr>\n",
       "    <tr>\n",
       "      <th>75%</th>\n",
       "      <td>6.902e+06</td>\n",
       "      <td>1.238e+06</td>\n",
       "      <td>2.844e+05</td>\n",
       "      <td>0.265</td>\n",
       "      <td>0.070</td>\n",
       "    </tr>\n",
       "    <tr>\n",
       "      <th>max</th>\n",
       "      <td>3.834e+07</td>\n",
       "      <td>5.523e+06</td>\n",
       "      <td>1.489e+06</td>\n",
       "      <td>1.530</td>\n",
       "      <td>0.280</td>\n",
       "    </tr>\n",
       "  </tbody>\n",
       "</table>\n",
       "</div>"
      ],
      "text/plain": [
       "       State Population  City Metro Area  City Population  Metro Per  City Per\n",
       "count         5.000e+01        5.000e+01        5.000e+01     50.000    50.000\n",
       "mean          6.307e+06        9.172e+05        2.529e+05      0.205     0.058\n",
       "std           7.063e+06        1.156e+06        2.927e+05      0.263     0.060\n",
       "min           5.827e+05        7.855e+03        7.855e+03      0.010     0.000\n",
       "25%           1.858e+06        1.518e+05        5.208e+04      0.040     0.013\n",
       "50%           4.499e+06        4.339e+05        1.664e+05      0.115     0.040\n",
       "75%           6.902e+06        1.238e+06        2.844e+05      0.265     0.070\n",
       "max           3.834e+07        5.523e+06        1.489e+06      1.530     0.280"
      ]
     },
     "execution_count": 115,
     "metadata": {},
     "output_type": "execute_result"
    }
   ],
   "source": [
    "df.describe()"
   ]
  },
  {
   "cell_type": "markdown",
   "metadata": {},
   "source": [
    "### Correlations between numeric variables\n",
    "\n",
    "To get a quick glimpse at how closely different variables are correlated with each other, use pandas' *corr* command"
   ]
  },
  {
   "cell_type": "code",
   "execution_count": 117,
   "metadata": {
    "collapsed": false
   },
   "outputs": [
    {
     "data": {
      "text/html": [
       "<div>\n",
       "<table border=\"1\" class=\"dataframe\">\n",
       "  <thead>\n",
       "    <tr style=\"text-align: right;\">\n",
       "      <th></th>\n",
       "      <th>State Population</th>\n",
       "      <th>City Metro Area</th>\n",
       "      <th>City Population</th>\n",
       "      <th>Metro Per</th>\n",
       "      <th>City Per</th>\n",
       "    </tr>\n",
       "  </thead>\n",
       "  <tbody>\n",
       "    <tr>\n",
       "      <th>State Population</th>\n",
       "      <td>1.000</td>\n",
       "      <td>0.283</td>\n",
       "      <td>0.321</td>\n",
       "      <td>-0.204</td>\n",
       "      <td>-0.274</td>\n",
       "    </tr>\n",
       "    <tr>\n",
       "      <th>City Metro Area</th>\n",
       "      <td>0.283</td>\n",
       "      <td>1.000</td>\n",
       "      <td>0.748</td>\n",
       "      <td>0.565</td>\n",
       "      <td>0.389</td>\n",
       "    </tr>\n",
       "    <tr>\n",
       "      <th>City Population</th>\n",
       "      <td>0.321</td>\n",
       "      <td>0.748</td>\n",
       "      <td>1.000</td>\n",
       "      <td>0.364</td>\n",
       "      <td>0.576</td>\n",
       "    </tr>\n",
       "    <tr>\n",
       "      <th>Metro Per</th>\n",
       "      <td>-0.204</td>\n",
       "      <td>0.565</td>\n",
       "      <td>0.364</td>\n",
       "      <td>1.000</td>\n",
       "      <td>0.706</td>\n",
       "    </tr>\n",
       "    <tr>\n",
       "      <th>City Per</th>\n",
       "      <td>-0.274</td>\n",
       "      <td>0.389</td>\n",
       "      <td>0.576</td>\n",
       "      <td>0.706</td>\n",
       "      <td>1.000</td>\n",
       "    </tr>\n",
       "  </tbody>\n",
       "</table>\n",
       "</div>"
      ],
      "text/plain": [
       "                  State Population  City Metro Area  City Population  \\\n",
       "State Population             1.000            0.283            0.321   \n",
       "City Metro Area              0.283            1.000            0.748   \n",
       "City Population              0.321            0.748            1.000   \n",
       "Metro Per                   -0.204            0.565            0.364   \n",
       "City Per                    -0.274            0.389            0.576   \n",
       "\n",
       "                  Metro Per  City Per  \n",
       "State Population     -0.204    -0.274  \n",
       "City Metro Area       0.565     0.389  \n",
       "City Population       0.364     0.576  \n",
       "Metro Per             1.000     0.706  \n",
       "City Per              0.706     1.000  "
      ]
     },
     "execution_count": 117,
     "metadata": {},
     "output_type": "execute_result"
    }
   ],
   "source": [
    "df.corr()"
   ]
  },
  {
   "cell_type": "markdown",
   "metadata": {},
   "source": [
    "### Count values in a particular column"
   ]
  },
  {
   "cell_type": "code",
   "execution_count": 125,
   "metadata": {
    "collapsed": false
   },
   "outputs": [
    {
     "data": {
      "text/plain": [
       "Region IV      8\n",
       "Region I       6\n",
       "Region V       6\n",
       "Region VIII    6\n",
       "Region VI      5\n",
       "Region III     5\n",
       "Region X       4\n",
       "Region IX      4\n",
       "Region VII     4\n",
       "Region II      2\n",
       "Name: Federal Region, dtype: int64"
      ]
     },
     "execution_count": 125,
     "metadata": {},
     "output_type": "execute_result"
    }
   ],
   "source": [
    "df['Federal Region'].value_counts()"
   ]
  },
  {
   "cell_type": "markdown",
   "metadata": {},
   "source": [
    "### Get a list of unique values in a column\n",
    "\n",
    "To get a list of the unique values in a column, use the *unique* command. You will need to specify the name of the column you want to see the unique values of. This is very useful for functional programming, which we will discuss in a future installment."
   ]
  },
  {
   "cell_type": "code",
   "execution_count": 123,
   "metadata": {
    "collapsed": false
   },
   "outputs": [
    {
     "data": {
      "text/plain": [
       "array(['Region IV', 'Region X', 'Region IX', 'Region VI', 'Region VIII',\n",
       "       'Region I', 'Region III', 'Region V', 'Region VII', 'Region II'], dtype=object)"
      ]
     },
     "execution_count": 123,
     "metadata": {},
     "output_type": "execute_result"
    }
   ],
   "source": [
    "df['Federal Region'].unique()"
   ]
  },
  {
   "cell_type": "markdown",
   "metadata": {},
   "source": [
    "## Data Exploration #2: Pivot Tables and Filtering "
   ]
  },
  {
   "cell_type": "markdown",
   "metadata": {},
   "source": [
    "### Basic Pivot table\n",
    "In this first example, we will look at the average Capital City Population by Federal Region using the *pivot_table* command.\n",
    "\n",
    "*values* = The column to be used for aggregation. In this case, we will look at the column name 'City Population'\n",
    "\n",
    "*index* = What to group the data on. This case, we will use Federal Region  \n",
    "\n",
    "*aggfunc* = What numeric operation you want to perform on your group. In this case, we will look at median  \n",
    "\n",
    "*columns* = We won't use columns in this example, but you would use this if you wanted to add a second dimension to the data. For instance, let's say this data set had another column specificying the presidential candidate the state selected in the last election. If we specified that column, the pivot table would create a separate aggregate for each value of that column."
   ]
  },
  {
   "cell_type": "code",
   "execution_count": 133,
   "metadata": {
    "collapsed": false
   },
   "outputs": [],
   "source": [
    "Pivot_Table_1 = df.pivot_table(values='City Population',index='Federal Region',aggfunc='median')"
   ]
  },
  {
   "cell_type": "markdown",
   "metadata": {},
   "source": [
    "### Pivot Table Date Grouping\n",
    "In this next example, we group our index by date. We will add an argument for \"column,\" which adds a second dimension to the data"
   ]
  },
  {
   "cell_type": "code",
   "execution_count": 157,
   "metadata": {
    "collapsed": false
   },
   "outputs": [],
   "source": [
    "Pivot_Table_2 = df.pivot_table(values='City Population',index='Union Entry Date',aggfunc='count')"
   ]
  },
  {
   "cell_type": "markdown",
   "metadata": {},
   "source": [
    "### There are many dates though, which creates a pretty sparse comparison\n",
    "To rememdy this, we can use *resample* and select one of the following to aggregate by \n",
    "\n",
    "B\tbusiness day frequency  \n",
    "C\tcustom business day frequency (experimental)  \n",
    "D\tcalendar day frequency  \n",
    "W\tweekly frequency  \n",
    "M\tmonth end frequency  \n",
    "SM\tsemi-month end frequency (15th and end of month)  \n",
    "BM\tbusiness month end frequency  \n",
    "CBM\tcustom business month end frequency  \n",
    "MS\tmonth start frequency  \n",
    "SMS\tsemi-month start frequency (1st and 15th)  \n",
    "BMS\tbusiness month start frequency  \n",
    "CBMS\tcustom business month start frequency  \n",
    "Q\tquarter end frequency  \n",
    "BQ\tbusiness quarter endfrequency  \n",
    "QS\tquarter start frequency  \n",
    "BQS\tbusiness quarter start frequency  \n",
    "A\tyear end frequency  \n",
    "BA\tbusiness year end frequency  \n",
    "AS\tyear start frequency  \n",
    "BAS\tbusiness year start frequency  \n",
    "BH\tbusiness hour frequency  \n",
    "H\thourly frequency  \n",
    "T, min\tminutely frequency  \n",
    "S\tsecondly frequency  \n",
    "L, ms\tmilliseconds  \n",
    "U, us\tmicroseconds  \n",
    "N\tnanoseconds"
   ]
  },
  {
   "cell_type": "code",
   "execution_count": 158,
   "metadata": {
    "collapsed": false
   },
   "outputs": [],
   "source": [
    "#This gives us an aggregate by year\n",
    "Pivot_Table_3 = Pivot_Table_2.resample('AS').sum()"
   ]
  },
  {
   "cell_type": "code",
   "execution_count": 159,
   "metadata": {
    "collapsed": false
   },
   "outputs": [
    {
     "data": {
      "text/plain": [
       "Union Entry Date\n",
       "1787-01-01    3.0\n",
       "1788-01-01    8.0\n",
       "1789-01-01    1.0\n",
       "1790-01-01    1.0\n",
       "1791-01-01    1.0\n",
       "1792-01-01    1.0\n",
       "1793-01-01    NaN\n",
       "1794-01-01    NaN\n",
       "1795-01-01    NaN\n",
       "1796-01-01    1.0\n",
       "1797-01-01    NaN\n",
       "1798-01-01    NaN\n",
       "1799-01-01    NaN\n",
       "1800-01-01    NaN\n",
       "1801-01-01    NaN\n",
       "1802-01-01    NaN\n",
       "1803-01-01    1.0\n",
       "1804-01-01    NaN\n",
       "1805-01-01    NaN\n",
       "1806-01-01    NaN\n",
       "1807-01-01    NaN\n",
       "1808-01-01    NaN\n",
       "1809-01-01    NaN\n",
       "1810-01-01    NaN\n",
       "1811-01-01    NaN\n",
       "1812-01-01    1.0\n",
       "1813-01-01    NaN\n",
       "1814-01-01    NaN\n",
       "1815-01-01    NaN\n",
       "1816-01-01    1.0\n",
       "1817-01-01    1.0\n",
       "1818-01-01    1.0\n",
       "1819-01-01    1.0\n",
       "1820-01-01    1.0\n",
       "1821-01-01    1.0\n",
       "1822-01-01    NaN\n",
       "1823-01-01    NaN\n",
       "1824-01-01    NaN\n",
       "1825-01-01    NaN\n",
       "1826-01-01    NaN\n",
       "1827-01-01    NaN\n",
       "1828-01-01    NaN\n",
       "1829-01-01    NaN\n",
       "1830-01-01    NaN\n",
       "1831-01-01    NaN\n",
       "1832-01-01    NaN\n",
       "1833-01-01    NaN\n",
       "1834-01-01    NaN\n",
       "1835-01-01    NaN\n",
       "1836-01-01    1.0\n",
       "             ... \n",
       "1910-01-01    NaN\n",
       "1911-01-01    NaN\n",
       "1912-01-01    2.0\n",
       "1913-01-01    NaN\n",
       "1914-01-01    NaN\n",
       "1915-01-01    NaN\n",
       "1916-01-01    NaN\n",
       "1917-01-01    NaN\n",
       "1918-01-01    NaN\n",
       "1919-01-01    NaN\n",
       "1920-01-01    NaN\n",
       "1921-01-01    NaN\n",
       "1922-01-01    NaN\n",
       "1923-01-01    NaN\n",
       "1924-01-01    NaN\n",
       "1925-01-01    NaN\n",
       "1926-01-01    NaN\n",
       "1927-01-01    NaN\n",
       "1928-01-01    NaN\n",
       "1929-01-01    NaN\n",
       "1930-01-01    NaN\n",
       "1931-01-01    NaN\n",
       "1932-01-01    NaN\n",
       "1933-01-01    NaN\n",
       "1934-01-01    NaN\n",
       "1935-01-01    NaN\n",
       "1936-01-01    NaN\n",
       "1937-01-01    NaN\n",
       "1938-01-01    NaN\n",
       "1939-01-01    NaN\n",
       "1940-01-01    NaN\n",
       "1941-01-01    NaN\n",
       "1942-01-01    NaN\n",
       "1943-01-01    NaN\n",
       "1944-01-01    NaN\n",
       "1945-01-01    NaN\n",
       "1946-01-01    NaN\n",
       "1947-01-01    NaN\n",
       "1948-01-01    NaN\n",
       "1949-01-01    NaN\n",
       "1950-01-01    NaN\n",
       "1951-01-01    NaN\n",
       "1952-01-01    NaN\n",
       "1953-01-01    NaN\n",
       "1954-01-01    NaN\n",
       "1955-01-01    NaN\n",
       "1956-01-01    NaN\n",
       "1957-01-01    NaN\n",
       "1958-01-01    NaN\n",
       "1959-01-01    2.0\n",
       "Freq: AS-JAN, Name: City Population, dtype: float64"
      ]
     },
     "execution_count": 159,
     "metadata": {},
     "output_type": "execute_result"
    }
   ],
   "source": [
    "Pivot_Table_3"
   ]
  },
  {
   "cell_type": "markdown",
   "metadata": {},
   "source": [
    "### Filtering - Creating a new sub-frame based on conditions"
   ]
  },
  {
   "cell_type": "markdown",
   "metadata": {},
   "source": [
    "If we want to set a new frame that includes states in Region X we use the \"==\" operator"
   ]
  },
  {
   "cell_type": "code",
   "execution_count": 161,
   "metadata": {
    "collapsed": false
   },
   "outputs": [
    {
     "data": {
      "text/html": [
       "<div>\n",
       "<table border=\"1\" class=\"dataframe\">\n",
       "  <thead>\n",
       "    <tr style=\"text-align: right;\">\n",
       "      <th></th>\n",
       "      <th>State</th>\n",
       "      <th>State Population</th>\n",
       "      <th>Capital</th>\n",
       "      <th>City Metro Area</th>\n",
       "      <th>City Population</th>\n",
       "      <th>Metro Per</th>\n",
       "      <th>City Per</th>\n",
       "      <th>Federal Region</th>\n",
       "      <th>Union Entry Date</th>\n",
       "    </tr>\n",
       "  </thead>\n",
       "  <tbody>\n",
       "    <tr>\n",
       "      <th>1</th>\n",
       "      <td>Alaska</td>\n",
       "      <td>735132</td>\n",
       "      <td>Juneau</td>\n",
       "      <td>32660</td>\n",
       "      <td>17311</td>\n",
       "      <td>0.04</td>\n",
       "      <td>0.02</td>\n",
       "      <td>Region X</td>\n",
       "      <td>1959-01-03</td>\n",
       "    </tr>\n",
       "    <tr>\n",
       "      <th>11</th>\n",
       "      <td>Idaho</td>\n",
       "      <td>1595728</td>\n",
       "      <td>Boise</td>\n",
       "      <td>650288</td>\n",
       "      <td>212303</td>\n",
       "      <td>0.41</td>\n",
       "      <td>0.13</td>\n",
       "      <td>Region X</td>\n",
       "      <td>1890-07-03</td>\n",
       "    </tr>\n",
       "    <tr>\n",
       "      <th>36</th>\n",
       "      <td>Oregon</td>\n",
       "      <td>3899353</td>\n",
       "      <td>Salem</td>\n",
       "      <td>400408</td>\n",
       "      <td>157429</td>\n",
       "      <td>0.10</td>\n",
       "      <td>0.04</td>\n",
       "      <td>Region X</td>\n",
       "      <td>1859-02-14</td>\n",
       "    </tr>\n",
       "    <tr>\n",
       "      <th>46</th>\n",
       "      <td>Washington</td>\n",
       "      <td>6971406</td>\n",
       "      <td>Olympia</td>\n",
       "      <td>262388</td>\n",
       "      <td>47698</td>\n",
       "      <td>0.04</td>\n",
       "      <td>0.01</td>\n",
       "      <td>Region X</td>\n",
       "      <td>1889-11-11</td>\n",
       "    </tr>\n",
       "  </tbody>\n",
       "</table>\n",
       "</div>"
      ],
      "text/plain": [
       "         State  State Population  Capital  City Metro Area  City Population  \\\n",
       "1       Alaska            735132   Juneau            32660            17311   \n",
       "11       Idaho           1595728    Boise           650288           212303   \n",
       "36      Oregon           3899353    Salem           400408           157429   \n",
       "46  Washington           6971406  Olympia           262388            47698   \n",
       "\n",
       "    Metro Per  City Per Federal Region Union Entry Date  \n",
       "1        0.04      0.02       Region X       1959-01-03  \n",
       "11       0.41      0.13       Region X       1890-07-03  \n",
       "36       0.10      0.04       Region X       1859-02-14  \n",
       "46       0.04      0.01       Region X       1889-11-11  "
      ]
     },
     "execution_count": 161,
     "metadata": {},
     "output_type": "execute_result"
    }
   ],
   "source": [
    "regionx = df[df['Federal Region']=='Region X']\n",
    "regionx"
   ]
  },
  {
   "cell_type": "markdown",
   "metadata": {},
   "source": [
    "### Many possible values\n",
    "If want to set a new frame that includes a variety of possible values, we can use the isin() function"
   ]
  },
  {
   "cell_type": "code",
   "execution_count": 173,
   "metadata": {
    "collapsed": false
   },
   "outputs": [
    {
     "data": {
      "text/html": [
       "<div>\n",
       "<table border=\"1\" class=\"dataframe\">\n",
       "  <thead>\n",
       "    <tr style=\"text-align: right;\">\n",
       "      <th></th>\n",
       "      <th>State</th>\n",
       "      <th>State Population</th>\n",
       "      <th>Capital</th>\n",
       "      <th>City Metro Area</th>\n",
       "      <th>City Population</th>\n",
       "      <th>Metro Per</th>\n",
       "      <th>City Per</th>\n",
       "      <th>Federal Region</th>\n",
       "      <th>Union Entry Date</th>\n",
       "    </tr>\n",
       "  </thead>\n",
       "  <tbody>\n",
       "    <tr>\n",
       "      <th>1</th>\n",
       "      <td>Alaska</td>\n",
       "      <td>735132</td>\n",
       "      <td>Juneau</td>\n",
       "      <td>32660</td>\n",
       "      <td>17311</td>\n",
       "      <td>0.04</td>\n",
       "      <td>0.02</td>\n",
       "      <td>Region X</td>\n",
       "      <td>1959-01-03</td>\n",
       "    </tr>\n",
       "    <tr>\n",
       "      <th>2</th>\n",
       "      <td>Arizona</td>\n",
       "      <td>6626624</td>\n",
       "      <td>Phoenix</td>\n",
       "      <td>4398762</td>\n",
       "      <td>1488750</td>\n",
       "      <td>0.66</td>\n",
       "      <td>0.23</td>\n",
       "      <td>Region IX</td>\n",
       "      <td>1912-02-14</td>\n",
       "    </tr>\n",
       "    <tr>\n",
       "      <th>4</th>\n",
       "      <td>California</td>\n",
       "      <td>38340000</td>\n",
       "      <td>Sacramento</td>\n",
       "      <td>2215770</td>\n",
       "      <td>477891</td>\n",
       "      <td>0.06</td>\n",
       "      <td>0.01</td>\n",
       "      <td>Region IX</td>\n",
       "      <td>1850-09-09</td>\n",
       "    </tr>\n",
       "    <tr>\n",
       "      <th>10</th>\n",
       "      <td>Hawaii</td>\n",
       "      <td>1404054</td>\n",
       "      <td>Honolulu</td>\n",
       "      <td>983429</td>\n",
       "      <td>390738</td>\n",
       "      <td>0.70</td>\n",
       "      <td>0.28</td>\n",
       "      <td>Region IX</td>\n",
       "      <td>1959-08-21</td>\n",
       "    </tr>\n",
       "    <tr>\n",
       "      <th>11</th>\n",
       "      <td>Idaho</td>\n",
       "      <td>1595728</td>\n",
       "      <td>Boise</td>\n",
       "      <td>650288</td>\n",
       "      <td>212303</td>\n",
       "      <td>0.41</td>\n",
       "      <td>0.13</td>\n",
       "      <td>Region X</td>\n",
       "      <td>1890-07-03</td>\n",
       "    </tr>\n",
       "    <tr>\n",
       "      <th>27</th>\n",
       "      <td>Nevada</td>\n",
       "      <td>2758931</td>\n",
       "      <td>Carson City</td>\n",
       "      <td>54080</td>\n",
       "      <td>55274</td>\n",
       "      <td>0.02</td>\n",
       "      <td>0.02</td>\n",
       "      <td>Region IX</td>\n",
       "      <td>1864-10-31</td>\n",
       "    </tr>\n",
       "    <tr>\n",
       "      <th>36</th>\n",
       "      <td>Oregon</td>\n",
       "      <td>3899353</td>\n",
       "      <td>Salem</td>\n",
       "      <td>400408</td>\n",
       "      <td>157429</td>\n",
       "      <td>0.10</td>\n",
       "      <td>0.04</td>\n",
       "      <td>Region X</td>\n",
       "      <td>1859-02-14</td>\n",
       "    </tr>\n",
       "    <tr>\n",
       "      <th>46</th>\n",
       "      <td>Washington</td>\n",
       "      <td>6971406</td>\n",
       "      <td>Olympia</td>\n",
       "      <td>262388</td>\n",
       "      <td>47698</td>\n",
       "      <td>0.04</td>\n",
       "      <td>0.01</td>\n",
       "      <td>Region X</td>\n",
       "      <td>1889-11-11</td>\n",
       "    </tr>\n",
       "  </tbody>\n",
       "</table>\n",
       "</div>"
      ],
      "text/plain": [
       "         State  State Population      Capital  City Metro Area  \\\n",
       "1       Alaska            735132       Juneau            32660   \n",
       "2      Arizona           6626624      Phoenix          4398762   \n",
       "4   California          38340000   Sacramento          2215770   \n",
       "10      Hawaii           1404054     Honolulu           983429   \n",
       "11       Idaho           1595728        Boise           650288   \n",
       "27      Nevada           2758931  Carson City            54080   \n",
       "36      Oregon           3899353        Salem           400408   \n",
       "46  Washington           6971406      Olympia           262388   \n",
       "\n",
       "    City Population  Metro Per  City Per Federal Region Union Entry Date  \n",
       "1             17311       0.04      0.02       Region X       1959-01-03  \n",
       "2           1488750       0.66      0.23      Region IX       1912-02-14  \n",
       "4            477891       0.06      0.01      Region IX       1850-09-09  \n",
       "10           390738       0.70      0.28      Region IX       1959-08-21  \n",
       "11           212303       0.41      0.13       Region X       1890-07-03  \n",
       "27            55274       0.02      0.02      Region IX       1864-10-31  \n",
       "36           157429       0.10      0.04       Region X       1859-02-14  \n",
       "46            47698       0.04      0.01       Region X       1889-11-11  "
      ]
     },
     "execution_count": 173,
     "metadata": {},
     "output_type": "execute_result"
    }
   ],
   "source": [
    "regionix_or_x = df[df['Federal Region'].isin(['Region X','Region IX'])]\n",
    "regionix_or_x"
   ]
  },
  {
   "cell_type": "markdown",
   "metadata": {},
   "source": [
    "### Set to a value condition\n",
    "If want to see all values above or below a certain amount"
   ]
  },
  {
   "cell_type": "code",
   "execution_count": 168,
   "metadata": {
    "collapsed": true
   },
   "outputs": [],
   "source": [
    "state_pop_above_10m = df[df['State Population']>10000000]\n",
    "state_pop_above_10m"
   ]
  },
  {
   "cell_type": "markdown",
   "metadata": {},
   "source": [
    "Or if we want to consider multiple condition. For instance, what if we want all states with a population below 1m or all states with a population >10m.\n",
    "\n",
    "Note:  \n",
    "The \"**|**\" operator equals *or*  \n",
    "The \"**&**\" operator equals *end*"
   ]
  },
  {
   "cell_type": "code",
   "execution_count": 172,
   "metadata": {
    "collapsed": false
   },
   "outputs": [
    {
     "data": {
      "text/html": [
       "<div>\n",
       "<table border=\"1\" class=\"dataframe\">\n",
       "  <thead>\n",
       "    <tr style=\"text-align: right;\">\n",
       "      <th></th>\n",
       "      <th>State</th>\n",
       "      <th>State Population</th>\n",
       "      <th>Capital</th>\n",
       "      <th>City Metro Area</th>\n",
       "      <th>City Population</th>\n",
       "      <th>Metro Per</th>\n",
       "      <th>City Per</th>\n",
       "      <th>Federal Region</th>\n",
       "      <th>Union Entry Date</th>\n",
       "    </tr>\n",
       "  </thead>\n",
       "  <tbody>\n",
       "    <tr>\n",
       "      <th>1</th>\n",
       "      <td>Alaska</td>\n",
       "      <td>735132</td>\n",
       "      <td>Juneau</td>\n",
       "      <td>32660</td>\n",
       "      <td>17311</td>\n",
       "      <td>0.04</td>\n",
       "      <td>0.02</td>\n",
       "      <td>Region X</td>\n",
       "      <td>1959-01-03</td>\n",
       "    </tr>\n",
       "    <tr>\n",
       "      <th>4</th>\n",
       "      <td>California</td>\n",
       "      <td>38340000</td>\n",
       "      <td>Sacramento</td>\n",
       "      <td>2215770</td>\n",
       "      <td>477891</td>\n",
       "      <td>0.06</td>\n",
       "      <td>0.01</td>\n",
       "      <td>Region IX</td>\n",
       "      <td>1850-09-09</td>\n",
       "    </tr>\n",
       "    <tr>\n",
       "      <th>7</th>\n",
       "      <td>Delaware</td>\n",
       "      <td>917092</td>\n",
       "      <td>Dover</td>\n",
       "      <td>169416</td>\n",
       "      <td>36047</td>\n",
       "      <td>0.18</td>\n",
       "      <td>0.04</td>\n",
       "      <td>Region III</td>\n",
       "      <td>1787-12-07</td>\n",
       "    </tr>\n",
       "    <tr>\n",
       "      <th>8</th>\n",
       "      <td>Florida</td>\n",
       "      <td>19552860</td>\n",
       "      <td>Tallahassee</td>\n",
       "      <td>373255</td>\n",
       "      <td>181376</td>\n",
       "      <td>0.02</td>\n",
       "      <td>0.01</td>\n",
       "      <td>Region IV</td>\n",
       "      <td>1845-03-03</td>\n",
       "    </tr>\n",
       "    <tr>\n",
       "      <th>12</th>\n",
       "      <td>Illinois</td>\n",
       "      <td>12882135</td>\n",
       "      <td>Springfield</td>\n",
       "      <td>211752</td>\n",
       "      <td>117400</td>\n",
       "      <td>0.02</td>\n",
       "      <td>0.01</td>\n",
       "      <td>Region V</td>\n",
       "      <td>1818-12-03</td>\n",
       "    </tr>\n",
       "    <tr>\n",
       "      <th>31</th>\n",
       "      <td>New York</td>\n",
       "      <td>19651127</td>\n",
       "      <td>Albany</td>\n",
       "      <td>155694</td>\n",
       "      <td>97904</td>\n",
       "      <td>0.01</td>\n",
       "      <td>0.01</td>\n",
       "      <td>Region II</td>\n",
       "      <td>1788-07-26</td>\n",
       "    </tr>\n",
       "    <tr>\n",
       "      <th>33</th>\n",
       "      <td>North Dakota</td>\n",
       "      <td>723393</td>\n",
       "      <td>Bismarck</td>\n",
       "      <td>123751</td>\n",
       "      <td>64751</td>\n",
       "      <td>0.17</td>\n",
       "      <td>0.09</td>\n",
       "      <td>Region VIII</td>\n",
       "      <td>1889-11-02</td>\n",
       "    </tr>\n",
       "    <tr>\n",
       "      <th>34</th>\n",
       "      <td>Ohio</td>\n",
       "      <td>11570808</td>\n",
       "      <td>Columbus</td>\n",
       "      <td>1967066</td>\n",
       "      <td>809798</td>\n",
       "      <td>0.17</td>\n",
       "      <td>0.07</td>\n",
       "      <td>Region V</td>\n",
       "      <td>1803-03-01</td>\n",
       "    </tr>\n",
       "    <tr>\n",
       "      <th>37</th>\n",
       "      <td>Pennsylvania</td>\n",
       "      <td>12773801</td>\n",
       "      <td>Harrisburg</td>\n",
       "      <td>557711</td>\n",
       "      <td>49528</td>\n",
       "      <td>0.04</td>\n",
       "      <td>0.00</td>\n",
       "      <td>Region III</td>\n",
       "      <td>1787-12-12</td>\n",
       "    </tr>\n",
       "    <tr>\n",
       "      <th>40</th>\n",
       "      <td>South Dakota</td>\n",
       "      <td>844877</td>\n",
       "      <td>Pierre</td>\n",
       "      <td>21926</td>\n",
       "      <td>13914</td>\n",
       "      <td>0.03</td>\n",
       "      <td>0.02</td>\n",
       "      <td>Region VIII</td>\n",
       "      <td>1889-11-02</td>\n",
       "    </tr>\n",
       "    <tr>\n",
       "      <th>42</th>\n",
       "      <td>Texas</td>\n",
       "      <td>26448193</td>\n",
       "      <td>Austin</td>\n",
       "      <td>1883051</td>\n",
       "      <td>865504</td>\n",
       "      <td>0.07</td>\n",
       "      <td>0.03</td>\n",
       "      <td>Region VI</td>\n",
       "      <td>1845-12-29</td>\n",
       "    </tr>\n",
       "    <tr>\n",
       "      <th>44</th>\n",
       "      <td>Vermont</td>\n",
       "      <td>626630</td>\n",
       "      <td>Montpelier</td>\n",
       "      <td>7855</td>\n",
       "      <td>7855</td>\n",
       "      <td>0.01</td>\n",
       "      <td>0.01</td>\n",
       "      <td>Region I</td>\n",
       "      <td>1791-03-04</td>\n",
       "    </tr>\n",
       "    <tr>\n",
       "      <th>49</th>\n",
       "      <td>Wyoming</td>\n",
       "      <td>582658</td>\n",
       "      <td>Cheyenne</td>\n",
       "      <td>95809</td>\n",
       "      <td>61537</td>\n",
       "      <td>0.16</td>\n",
       "      <td>0.11</td>\n",
       "      <td>Region VIII</td>\n",
       "      <td>1890-07-10</td>\n",
       "    </tr>\n",
       "  </tbody>\n",
       "</table>\n",
       "</div>"
      ],
      "text/plain": [
       "           State  State Population      Capital  City Metro Area  \\\n",
       "1         Alaska            735132       Juneau            32660   \n",
       "4     California          38340000   Sacramento          2215770   \n",
       "7       Delaware            917092        Dover           169416   \n",
       "8        Florida          19552860  Tallahassee           373255   \n",
       "12      Illinois          12882135  Springfield           211752   \n",
       "31      New York          19651127       Albany           155694   \n",
       "33  North Dakota            723393     Bismarck           123751   \n",
       "34          Ohio          11570808     Columbus          1967066   \n",
       "37  Pennsylvania          12773801   Harrisburg           557711   \n",
       "40  South Dakota            844877       Pierre            21926   \n",
       "42         Texas          26448193       Austin          1883051   \n",
       "44       Vermont            626630   Montpelier             7855   \n",
       "49       Wyoming            582658     Cheyenne            95809   \n",
       "\n",
       "    City Population  Metro Per  City Per Federal Region Union Entry Date  \n",
       "1             17311       0.04      0.02       Region X       1959-01-03  \n",
       "4            477891       0.06      0.01      Region IX       1850-09-09  \n",
       "7             36047       0.18      0.04     Region III       1787-12-07  \n",
       "8            181376       0.02      0.01      Region IV       1845-03-03  \n",
       "12           117400       0.02      0.01       Region V       1818-12-03  \n",
       "31            97904       0.01      0.01      Region II       1788-07-26  \n",
       "33            64751       0.17      0.09    Region VIII       1889-11-02  \n",
       "34           809798       0.17      0.07       Region V       1803-03-01  \n",
       "37            49528       0.04      0.00     Region III       1787-12-12  \n",
       "40            13914       0.03      0.02    Region VIII       1889-11-02  \n",
       "42           865504       0.07      0.03      Region VI       1845-12-29  \n",
       "44             7855       0.01      0.01       Region I       1791-03-04  \n",
       "49            61537       0.16      0.11    Region VIII       1890-07-10  "
      ]
     },
     "execution_count": 172,
     "metadata": {},
     "output_type": "execute_result"
    }
   ],
   "source": [
    "hi_lo =df[(df['State Population']>10000000)|(df['State Population']<1000000)]\n",
    "hi_lo"
   ]
  },
  {
   "cell_type": "markdown",
   "metadata": {},
   "source": [
    "## Data Exploration #3: Visualize Your Data"
   ]
  },
  {
   "cell_type": "code",
   "execution_count": 256,
   "metadata": {
    "collapsed": false
   },
   "outputs": [
    {
     "data": {
      "image/png": "[encoded data removed]",
      "text/plain": [
       "<matplotlib.figure.Figure at 0x123b78d68>"
      ]
     },
     "metadata": {},
     "output_type": "display_data"
    }
   ],
   "source": [
    "fig, ax = plt.subplots(figsize=(11,8))\n",
    "\n",
    "plot1 = df.plot(ax=ax, #set equal to the correct axis. If not specified, will create new axis\n",
    "                kind='scatter', #chart type\n",
    "                x='City Metro Area', #specify your x-axis value\n",
    "                y='State Population', #specify your y-axis value\n",
    "                alpha=.4, #specify the transparency\n",
    "                color='red', #specify the color\n",
    "                xlim=(-300,6000000), #specify your x-axis limits\n",
    "                ylim=(-300,40000000) #specify you y-axis limits\n",
    "               )"
   ]
  },
  {
   "cell_type": "markdown",
   "metadata": {},
   "source": [
    "#### With additional commands, you can customize the axes"
   ]
  },
  {
   "cell_type": "code",
   "execution_count": 292,
   "metadata": {
    "collapsed": false
   },
   "outputs": [
    {
     "data": {
      "text/plain": [
       "<matplotlib.text.Text at 0x12e849a90>"
      ]
     },
     "execution_count": 292,
     "metadata": {},
     "output_type": "execute_result"
    },
    {
     "data": {
      "image/png": "[encoded data removed]",
      "text/plain": [
       "<matplotlib.figure.Figure at 0x12e633438>"
      ]
     },
     "metadata": {},
     "output_type": "display_data"
    }
   ],
   "source": [
    "fig, ax = plt.subplots(figsize=(11,8))\n",
    "fig.suptitle('Scatter Plot')\n",
    "plot1 = df.plot(ax=ax, #set equal to the correct axis. If not specified, will create new axis\n",
    "                kind='scatter', #chart type\n",
    "                x='City Metro Area', #specify your x-axis value\n",
    "                y='State Population', #specify your y-axis value\n",
    "                alpha=.4, #specify the transparency\n",
    "                color='red', #specify the color\n",
    "                xlim=(-300,6000000), #specify your x-axis limits\n",
    "                ylim=(-300,40000000) #specify you y-axis limits\n",
    "               )\n",
    "\n",
    "x_ticklabels = ax.set_xticklabels(['',0,'1M','2M','3M','4M','5M','6M'])\n",
    "ax.set_ylabel('State Population',size=13,color='green')"
   ]
  },
  {
   "cell_type": "markdown",
   "metadata": {},
   "source": [
    "### Additional chart examples"
   ]
  },
  {
   "cell_type": "markdown",
   "metadata": {},
   "source": [
    "#### Horizontal Bar"
   ]
  },
  {
   "cell_type": "code",
   "execution_count": 290,
   "metadata": {
    "collapsed": false
   },
   "outputs": [
    {
     "data": {
      "text/plain": [
       "<matplotlib.axes._subplots.AxesSubplot at 0x12de5a780>"
      ]
     },
     "execution_count": 290,
     "metadata": {},
     "output_type": "execute_result"
    },
    {
     "data": {
      "image/png": "[encoded data removed]",
      "text/plain": [
       "<matplotlib.figure.Figure at 0x12e13b0f0>"
      ]
     },
     "metadata": {},
     "output_type": "display_data"
    }
   ],
   "source": [
    "fig, ax = plt.subplots(figsize=(11,8))\n",
    "fig.suptitle('Horizontal Bar Chart')\n",
    "df.sort_values(by='State Population',inplace=True) #sort the axis by state population\n",
    "\n",
    "df.plot(ax=ax,x='State',y='State Population',kind='barh',alpha=.4,\n",
    "        color='red')"
   ]
  },
  {
   "cell_type": "markdown",
   "metadata": {},
   "source": [
    "#### Area Chart"
   ]
  },
  {
   "cell_type": "code",
   "execution_count": 288,
   "metadata": {
    "collapsed": false
   },
   "outputs": [
    {
     "data": {
      "text/plain": [
       "<matplotlib.axes._subplots.AxesSubplot at 0x12c5985f8>"
      ]
     },
     "execution_count": 288,
     "metadata": {},
     "output_type": "execute_result"
    },
    {
     "data": {
      "image/png": "[encoded data removed]",
      "text/plain": [
       "<matplotlib.figure.Figure at 0x12c378c88>"
      ]
     },
     "metadata": {},
     "output_type": "display_data"
    }
   ],
   "source": [
    "fig, ax = plt.subplots(figsize=(11,8))\n",
    "fig.suptitle('Area Chart')\n",
    "df.sort_values(by='City Metro Area',inplace=True)\n",
    "df.plot(ax=ax,x='Capital',y='City Metro Area',kind='area',alpha=.5,sort_columns=True,\n",
    "        color='Blue')"
   ]
  },
  {
   "cell_type": "markdown",
   "metadata": {},
   "source": [
    "#### Density Chart"
   ]
  },
  {
   "cell_type": "code",
   "execution_count": 313,
   "metadata": {
    "collapsed": false
   },
   "outputs": [
    {
     "data": {
      "image/png": "[encoded data removed]",
      "text/plain": [
       "<matplotlib.figure.Figure at 0x1313a52b0>"
      ]
     },
     "metadata": {},
     "output_type": "display_data"
    }
   ],
   "source": [
    "fig, ax = plt.subplots(figsize=(11,8))\n",
    "fig.suptitle('Density Count')\n",
    "df.plot(ax=ax,kind='hexbin',x='City Metro Area',\n",
    "        y='State Population',alpha=.8,cmap='YlOrRd',gridsize=20)\n",
    "\n",
    "x_ticklabels = ax.set_xticklabels([0,'1M','2M','3M','4M','5M'])\n",
    "y_ticklabels = ax.set_yticklabels([0,'','10M','15M','20M','25M','30M','35M'])"
   ]
  },
  {
   "cell_type": "markdown",
   "metadata": {},
   "source": [
    "#### Histogram"
   ]
  },
  {
   "cell_type": "code",
   "execution_count": 335,
   "metadata": {
    "collapsed": false
   },
   "outputs": [
    {
     "data": {
      "text/plain": [
       "<matplotlib.text.Text at 0x176184630>"
      ]
     },
     "execution_count": 335,
     "metadata": {},
     "output_type": "execute_result"
    },
    {
     "data": {
      "image/png": "[encoded data removed]",
      "text/plain": [
       "<matplotlib.figure.Figure at 0x17611b780>"
      ]
     },
     "metadata": {},
     "output_type": "display_data"
    }
   ],
   "source": [
    "fig, ax = plt.subplots(figsize=(11,8))\n",
    "fig.suptitle('Histogram Chart')\n",
    "\n",
    "counts, bins, patches = plt.hist(x=df['City Metro Area'], #specify the cut-off values\n",
    "                                 bins=[150000*x for x in range(20)],color='orange',edgecolor='grey') \n",
    "ax.set_xticklabels(ax.get_xticks()/1000000) #get the current labels and divides them by 1m\n",
    "ax.set_xlabel('Population in Millions')\n",
    "ax.set_ylabel('Count')"
   ]
  },
  {
   "cell_type": "markdown",
   "metadata": {},
   "source": [
    "#### Bubble chart"
   ]
  },
  {
   "cell_type": "code",
   "execution_count": 345,
   "metadata": {
    "collapsed": false
   },
   "outputs": [
    {
     "data": {
      "text/plain": [
       "<matplotlib.text.Text at 0x1259760f0>"
      ]
     },
     "execution_count": 345,
     "metadata": {},
     "output_type": "execute_result"
    },
    {
     "data": {
      "image/png": "[encoded data removed]",
      "text/plain": [
       "<matplotlib.figure.Figure at 0x125a58518>"
      ]
     },
     "metadata": {},
     "output_type": "display_data"
    }
   ],
   "source": [
    "fig, ax = plt.subplots(figsize=(11,8))\n",
    "fig.suptitle('Bubble Chart')\n",
    "\n",
    "\n",
    "ax.set_xlim(-300,6000000) #specify your x-axis limits\n",
    "ax.set_ylim(-300,40000000) #specify your y-axis limits\n",
    "ax.set_xticklabels(ax.get_xticks()/1000000) \n",
    "ax.set_yticklabels(ax.get_yticks()/1000000)\n",
    "\n",
    "plt.scatter(df['City Metro Area'],df['State Population'],s=df['City Population']/1000,alpha=.4,color='red')\n",
    "\n",
    "ax.set_xlabel('Population in Millions')\n",
    "ax.set_ylabel('State Population in millions')"
   ]
  },
  {
   "cell_type": "code",
   "execution_count": null,
   "metadata": {
    "collapsed": true
   },
   "outputs": [],
   "source": []
  }
 ],
 "metadata": {
  "anaconda-cloud": {},
  "kernelspec": {
   "display_name": "Python [Root]",
   "language": "python",
   "name": "Python [Root]"
  },
  "language_info": {
   "codemirror_mode": {
    "name": "ipython",
    "version": 3
   },
   "file_extension": ".py",
   "mimetype": "text/x-python",
   "name": "python",
   "nbconvert_exporter": "python",
   "pygments_lexer": "ipython3",
   "version": "3.5.2"
  }
 },
 "nbformat": 4,
 "nbformat_minor": 0
}
